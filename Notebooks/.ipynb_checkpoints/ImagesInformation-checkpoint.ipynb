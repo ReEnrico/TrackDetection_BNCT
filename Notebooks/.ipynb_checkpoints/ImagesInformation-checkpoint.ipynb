{
 "cells": [
  {
   "cell_type": "code",
   "execution_count": null,
   "id": "d65fdc28",
   "metadata": {},
   "outputs": [],
   "source": [
    "import glob\n",
    "import matplotlib.pyplot as plt\n",
    "import numpy as np\n",
    "from skimage import io\n",
    "import os\n",
    "\n",
    "\n",
    "def upload_test_file(name_array: list):\n",
    "    image_array = []\n",
    "    text_array = []\n",
    "    lenght_array = []\n",
    "    for name in name_array:\n",
    "        img = io.imread(os.path.join(\"..\", \"img_PseudoTracks\", \"test_{}.jpg\".format(name)))\n",
    "        image_array.append(img)\n",
    "        txt = np.loadtxt(os.path.join(\"..\", \"img_PseudoTracks\", \"test_{}_coord.txt\".format(name)))\n",
    "        text_array.append(txt)\n",
    "        lnght = len(txt)\n",
    "        lenght_array.append(lnght)\n",
    "    return image_array, text_array, lenght_array\n",
    "\n",
    "\n",
    "def upload_real_file(name_array: list):\n",
    "    image_array = []\n",
    "    text_array = []\n",
    "    lenght_array = []\n",
    "    for name in name_array:\n",
    "        img = io.imread(os.path.join(\"..\", \"img\", \"{}.jpg\".format(name)))\n",
    "        image_array.append(img)\n",
    "        txt = np.loadtxt(os.path.join(\"..\", \"img\", \"{}.txt\".format(name)))\n",
    "        text_array.append(txt)\n",
    "        lnght = len(txt)\n",
    "        lenght_array.append(lnght)\n",
    "            \n",
    "    return image_array, text_array, lenght_array"
   ]
  },
  {
   "cell_type": "code",
   "execution_count": null,
   "id": "9a42c21d",
   "metadata": {},
   "outputs": [],
   "source": [
    "test_names = [\"{:03d}\".format(i) for i in range(240)]\n",
    "test_images, test_texts, test_lenghts = upload_test_file(test_names)\n",
    "\n",
    "real_names = [\"{:03d}\".format(i) for i in range(240)]\n",
    "real_images, real_texts, real_lenghts = upload_real_file(real_names)"
   ]
  },
  {
   "cell_type": "markdown",
   "id": "5e8af5d9",
   "metadata": {},
   "source": [
    "## Comment\n",
    "Here I save some basic informations about test and real images in numpy array with the purpose of using them in other files"
   ]
  },
  {
   "cell_type": "code",
   "execution_count": null,
   "id": "c37b2ece",
   "metadata": {},
   "outputs": [],
   "source": [
    "real_image_info = np.zeros((len(real_images), 3), dtype=object)\n",
    "for i in range(len(real_images)):\n",
    "    gray_mean = real_images[i].mean()\n",
    "    gray_min = min(real_images[i].flatten())\n",
    "    gray_max = max(real_images[i].flatten())\n",
    "    real_image_info[i] = np.array([round(gray_mean, 2), gray_min, gray_max], dtype=object)\n",
    "np.save(\"real_image_info\", real_image_info)"
   ]
  },
  {
   "cell_type": "code",
   "execution_count": null,
   "id": "19a0cfbe",
   "metadata": {},
   "outputs": [],
   "source": [
    "real_image = np.load(\"real_image_info.npy\", allow_pickle=True)\n",
    "\n",
    "\n",
    "fig, ax = plt.subplots(1, 3, constrained_layout=True, figsize=(12,9))\n",
    "fig.suptitle(\"Real Images\")\n",
    "\n",
    "ax[0].hist(real_image[:, 0], 50, density=True, facecolor='r', alpha=0.75)\n",
    "ax[0].set_xlabel(\"Mean value\")\n",
    "ax[0].grid(zorder=0)\n",
    "\n",
    "ax[1].hist(real_image[:, 1], 50, density=True, facecolor='g', alpha=0.75)\n",
    "ax[1].set_xlabel(\"Minimum value\")\n",
    "ax[1].grid(zorder=0)\n",
    "\n",
    "ax[2].hist(real_image[:, 2], 50, density=True, facecolor='b', alpha=0.75)\n",
    "ax[2].set_xlabel(\"Maximum value\")\n",
    "ax[2].grid(zorder=0)\n",
    "\n",
    "plt.show()\n"
   ]
  },
  {
   "cell_type": "code",
   "execution_count": null,
   "id": "51ebea17",
   "metadata": {},
   "outputs": [],
   "source": [
    "test_image_info = np.zeros((len(test_images), 4), dtype=object)\n",
    "for i in range(len(test_images)):\n",
    "    gray_mean = test_images[i].mean()\n",
    "    gray_deviation = test_images[i].std()\n",
    "    gray_min = min(test_texts[i][:, 3])\n",
    "    gray_max = max(test_texts[i][:, 3])\n",
    "    test_image_info[i] = np.array([round(gray_mean, 2), round(gray_deviation), gray_min, gray_max])\n",
    "np.save(\"test_image_info\", test_image_info)"
   ]
  },
  {
   "cell_type": "code",
   "execution_count": null,
   "id": "c2431089",
   "metadata": {},
   "outputs": [],
   "source": [
    "print(test_image_info)"
   ]
  },
  {
   "cell_type": "code",
   "execution_count": null,
   "id": "e1f62666",
   "metadata": {},
   "outputs": [],
   "source": [
    "test_image = np.load(\"test_image_info.npy\", allow_pickle=True)\n",
    "\n",
    "\n",
    "fig, ax = plt.subplots(1, 3, constrained_layout=True, figsize=(12,9))\n",
    "fig.suptitle(\"Test Images\")\n",
    "\n",
    "ax[0].hist(test_image[:, 0], 10, density=True, facecolor='r', alpha=0.75)\n",
    "ax[0].set_xlabel(\"Mean value\")\n",
    "ax[0].grid(zorder=0)\n",
    "\n",
    "ax[1].hist(test_image[:, 2], 10, density=True, facecolor='g', alpha=0.75)\n",
    "ax[1].set_xlabel(\"Minimum value\")\n",
    "ax[1].grid(zorder=0)\n",
    "\n",
    "ax[2].hist(test_image[:, 3], 10, density=True, facecolor='b', alpha=0.75)\n",
    "ax[2].set_xlabel(\"Maximum value\")\n",
    "ax[2].grid(zorder=0)\n",
    "\n",
    "plt.show()\n"
   ]
  },
  {
   "cell_type": "markdown",
   "id": "a8e32d24",
   "metadata": {},
   "source": [
    "## Comment\n",
    "Here two np files are created that contain the index of all the brightest or darkest blobs in each image; through the indices it is possible to trace the position of the blobs and verify if, or when, the algorithms have detected those specific blobs"
   ]
  },
  {
   "cell_type": "code",
   "execution_count": null,
   "id": "a20cf406",
   "metadata": {},
   "outputs": [],
   "source": [
    "color = np.zeros((len(test_texts), 2), dtype=object)\n",
    "for i in range(len(test_texts)):\n",
    "    bright_blob = max(test_texts[i][:, 3])\n",
    "    dark_blob = min(test_texts[i][:, 3])\n",
    "    color[i] = np.array([bright_blob, dark_blob], dtype=object)\n",
    "    \n",
    "dark = []\n",
    "bright = []\n",
    "for i in range(len(color)):\n",
    "    rd, cd = np.where(test_texts[i] == color[i][1])\n",
    "    dark.append(rd)\n",
    "    rb, cb = np.where(test_texts[i] == color[i][0])\n",
    "    bright.append(rb)\n",
    "    \n",
    "np.save(\"all_bright\", bright)\n",
    "np.save(\"all_dark\", dark)"
   ]
  }
 ],
 "metadata": {
  "kernelspec": {
   "display_name": "Python 3",
   "language": "python",
   "name": "python3"
  },
  "language_info": {
   "codemirror_mode": {
    "name": "ipython",
    "version": 3
   },
   "file_extension": ".py",
   "mimetype": "text/x-python",
   "name": "python",
   "nbconvert_exporter": "python",
   "pygments_lexer": "ipython3",
   "version": "3.8.8"
  }
 },
 "nbformat": 4,
 "nbformat_minor": 5
}
